{
 "cells": [
  {
   "cell_type": "markdown",
   "metadata": {},
   "source": [
    "The <a href=\"http://en.wikipedia.org/wiki/International_Space_Station\"> International Space Station</a> is a man-made, habitable object in low Earth orbit under the joint operation of NASA, Roscosmos, JAXA, ESA, and CSA. It will also be the subject of our investigations into using APIs. \n",
    "<p>\n",
    "    We will use a very simple API called <b>Open Notify</b>. \n",
    "<p> \n",
    "<hr>    \n",
    "<h2> Let's start with the human...</h2> \n",
    "<ol>\n",
    "<li>Point your browser to: <a href=\"http://api.open-notify.org\"> http://api.open-notify.org</a></li>\n",
    "<li>Let's look at the documentation for ISS-Pass-Times, for when the station will be visible from a location on the planet.</li>\n",
    "<li>Read the documentation. Can you:\n",
    "   <ol><li>Ascertain what you can ask of the APIs?</li>\n",
    "    <li>Understand the parameters that are required? Optional?</li>\n",
    "    <li>Find in what the format of the result will be?</li></ol>\n",
    "</li>    "
   ]
  },
  {
   "cell_type": "markdown",
   "metadata": {},
   "source": [
    "<hr>\n",
    "<h2> Getting data Manually...</h2>\n",
    "Here's your first challenge! Using the documentation, can you create a URL (web address) that can request then the ISS will be over Taubman College?\n",
    "<p>\n",
    "Our location is lat: 42.290150, lon: -83.718440.\n",
    "<p>\n",
    "    <i>After you get it, note how the parameters are implemented in the URL.</i>"
   ]
  },
  {
   "cell_type": "code",
   "execution_count": null,
   "metadata": {},
   "outputs": [],
   "source": [
    "http://api.open-notify.org/iss-pass.json?lat=42.290150&lon=-83.718440&n=29"
   ]
  },
  {
   "cell_type": "markdown",
   "metadata": {},
   "source": [
    "<hr>"
   ]
  },
  {
   "cell_type": "markdown",
   "metadata": {},
   "source": [
    "<h2> Let's get into code!</h2>\n",
    "<p>\n",
    "Let's first import our favorite Pandas, and a new library called <code>requests</code>. Documentation can be found at https://www.python-requests.org/. "
   ]
  },
  {
   "cell_type": "code",
   "execution_count": 1,
   "metadata": {},
   "outputs": [],
   "source": [
    "import requests\n",
    "import pandas as pd"
   ]
  },
  {
   "cell_type": "markdown",
   "metadata": {},
   "source": [
    "Let's now create a new variable called <b>response</b> that uses the command <code>get</code>. Again, read more about the parameters of <code>get</code> in the documentation, but at minimum, you'll have to send the appropriate HTTP request (the URL). <p> Let's start with the basic, generalized address of http://api.open-notify.org/iss-now.json. "
   ]
  },
  {
   "cell_type": "code",
   "execution_count": 2,
   "metadata": {},
   "outputs": [
    {
     "data": {
      "text/plain": [
       "<Response [200]>"
      ]
     },
     "execution_count": 2,
     "metadata": {},
     "output_type": "execute_result"
    }
   ],
   "source": [
    "response=requests.get(\"http://api.open-notify.org/iss-now.json\")\n",
    "response"
   ]
  },
  {
   "cell_type": "markdown",
   "metadata": {},
   "source": [
    "Not probably what you were thinking, right? In short, your <i>incomplete</i> request gave you what is called a \"status code\"-is the server up?\n",
    "<p>\n",
    "    There are <a href=\"https://www.restapitutorial.com/httpstatuscodes.html\">many</a> codes, but the most common are:\n",
    "<ul><li>200: Okay</li>\n",
    "    <li>201: Modified (if PUT/POST, usually)</li>\n",
    "    <li>304: Not modified (if PUT/POST, usually)</li>\n",
    "    <li>400: Bad request</li>\n",
    "    <li>403: Forbidden</li>\n",
    "    <li>404: File not found</li>\n",
    "</ul>\n",
    "Let's try it again with an incorrect address... Here, we'll explicitly call up the status code, since we know we're doing something wrong. You can also try it using the code from before and see what you get. <i>Why do these responses differ or not?</i>"
   ]
  },
  {
   "cell_type": "code",
   "execution_count": 3,
   "metadata": {},
   "outputs": [
    {
     "name": "stdout",
     "output_type": "stream",
     "text": [
      "404\n"
     ]
    }
   ],
   "source": [
    "response = requests.get(\"http://api.open-notify.org/iss-pass\")\n",
    "print(response.status_code)"
   ]
  },
  {
   "cell_type": "markdown",
   "metadata": {},
   "source": [
    "<hr><p><h2>Making Requests</h2>Now for some fun... <p>\n",
    "Create a variable called <b>response</b>, using the <code>get</code> command we've been using, but pass through it the correct URL you used in the first step..."
   ]
  },
  {
   "cell_type": "code",
   "execution_count": 4,
   "metadata": {},
   "outputs": [],
   "source": [
    "# Attempt 1: By URL request\n",
    "\n",
    "response = requests.get(\"http://api.open-notify.org/iss-pass.json?lat=42.290150&lon=-83.718440\")\n"
   ]
  },
  {
   "cell_type": "code",
   "execution_count": 5,
   "metadata": {},
   "outputs": [
    {
     "name": "stdout",
     "output_type": "stream",
     "text": [
      "b'{\\n  \"message\": \"success\", \\n  \"request\": {\\n    \"altitude\": 100, \\n    \"datetime\": 1600967603, \\n    \"latitude\": 42.29015, \\n    \"longitude\": -83.71844, \\n    \"passes\": 5\\n  }, \\n  \"response\": [\\n    {\\n      \"duration\": 548, \\n      \"risetime\": 1600981523\\n    }, \\n    {\\n      \"duration\": 655, \\n      \"risetime\": 1600987253\\n    }, \\n    {\\n      \"duration\": 612, \\n      \"risetime\": 1600993108\\n    }, \\n    {\\n      \"duration\": 592, \\n      \"risetime\": 1600998980\\n    }, \\n    {\\n      \"duration\": 642, \\n      \"risetime\": 1601004806\\n    }\\n  ]\\n}\\n'\n"
     ]
    }
   ],
   "source": [
    "print(response.content)"
   ]
  },
  {
   "cell_type": "markdown",
   "metadata": {},
   "source": [
    "Does it look like your initial browser-utilized \"search\"? Great. That's one way to get results... Let's try another. \n",
    "<p>\n",
    "    The following code isolates your variables. It utilizes <code>get</code>'s own syntax to allow you to isolate the parameters. "
   ]
  },
  {
   "cell_type": "code",
   "execution_count": 6,
   "metadata": {},
   "outputs": [],
   "source": [
    "#Attempt 2: Using Parameters\n",
    "\n",
    "parameters = {\"lat\": 42.290150, \"lon\": -83.718440}\n",
    "response = requests.get(\"http://api.open-notify.org/iss-pass.json\", params=parameters)\n"
   ]
  },
  {
   "cell_type": "code",
   "execution_count": 7,
   "metadata": {},
   "outputs": [
    {
     "name": "stdout",
     "output_type": "stream",
     "text": [
      "b'{\\n  \"message\": \"success\", \\n  \"request\": {\\n    \"altitude\": 100, \\n    \"datetime\": 1600967623, \\n    \"latitude\": 42.29015, \\n    \"longitude\": -83.71844, \\n    \"passes\": 5\\n  }, \\n  \"response\": [\\n    {\\n      \"duration\": 548, \\n      \"risetime\": 1600981523\\n    }, \\n    {\\n      \"duration\": 655, \\n      \"risetime\": 1600987253\\n    }, \\n    {\\n      \"duration\": 612, \\n      \"risetime\": 1600993108\\n    }, \\n    {\\n      \"duration\": 592, \\n      \"risetime\": 1600998980\\n    }, \\n    {\\n      \"duration\": 642, \\n      \"risetime\": 1601004806\\n    }\\n  ]\\n}\\n'\n"
     ]
    }
   ],
   "source": [
    "print(response.content)"
   ]
  },
  {
   "cell_type": "markdown",
   "metadata": {},
   "source": [
    "<hr>\n",
    "<h2>Handling JSONs</h2>\n",
    "This may have not been what you wanted. Why don't you check what datatype your result is? \n",
    "<p>\n",
    "    There is a command under <b>requests</b> called <code>content</code>. Try printing the \"type\" of data it is..."
   ]
  },
  {
   "cell_type": "code",
   "execution_count": 11,
   "metadata": {},
   "outputs": [
    {
     "name": "stdout",
     "output_type": "stream",
     "text": [
      "<class 'bytes'>\n"
     ]
    }
   ],
   "source": [
    "print(type(response.content))"
   ]
  },
  {
   "cell_type": "markdown",
   "metadata": {},
   "source": [
    "So you may have realized that we need to convert this to a MACHINE-READABLE data format, since the result isn't one we really know how to handle 😂. \n",
    "<p>\n",
    "Under <b>requests</b>, there is a command called <code>json</code> that tries to make sense of an input and interprets it as a JSON file--a file type we can use. \n",
    "    \n",
    "<p>Using this, create a new variable called \"data\" that's a json of that previous <b>response</b>. Check if it's write by printing your result's datatype. Take a look at the data if things look right. "
   ]
  },
  {
   "cell_type": "code",
   "execution_count": 8,
   "metadata": {},
   "outputs": [
    {
     "name": "stdout",
     "output_type": "stream",
     "text": [
      "<class 'dict'>\n"
     ]
    }
   ],
   "source": [
    "data=response.json()\n",
    "print(type(data))"
   ]
  },
  {
   "cell_type": "code",
   "execution_count": 9,
   "metadata": {},
   "outputs": [
    {
     "name": "stdout",
     "output_type": "stream",
     "text": [
      "{'message': 'success', 'request': {'altitude': 100, 'datetime': 1600967623, 'latitude': 42.29015, 'longitude': -83.71844, 'passes': 5}, 'response': [{'duration': 548, 'risetime': 1600981523}, {'duration': 655, 'risetime': 1600987253}, {'duration': 612, 'risetime': 1600993108}, {'duration': 592, 'risetime': 1600998980}, {'duration': 642, 'risetime': 1601004806}]}\n"
     ]
    }
   ],
   "source": [
    "print(data)"
   ]
  },
  {
   "cell_type": "markdown",
   "metadata": {},
   "source": [
    "We win!... Sort of. Okay. So it's a JSON, but we still can't use it. From Pandas, we're going to bring in something called <code>json_normalize</code>:"
   ]
  },
  {
   "cell_type": "code",
   "execution_count": 10,
   "metadata": {},
   "outputs": [],
   "source": [
    "from pandas.io.json import json_normalize"
   ]
  },
  {
   "cell_type": "markdown",
   "metadata": {},
   "source": [
    "And just for fun, let's pull up what Pandas see's from the \"response\" section of our JSON. You may want to take a moment to play with the code to see if you can pull up other bits of information manually, before we make the data useable for human and machine..."
   ]
  },
  {
   "cell_type": "code",
   "execution_count": 11,
   "metadata": {},
   "outputs": [
    {
     "ename": "KeyError",
     "evalue": "'duration'",
     "output_type": "error",
     "traceback": [
      "\u001b[0;31m---------------------------------------------------------------------------\u001b[0m",
      "\u001b[0;31mKeyError\u001b[0m                                  Traceback (most recent call last)",
      "\u001b[0;32m<ipython-input-11-432129d7a588>\u001b[0m in \u001b[0;36m<module>\u001b[0;34m\u001b[0m\n\u001b[0;32m----> 1\u001b[0;31m \u001b[0mprint\u001b[0m \u001b[0;34m(\u001b[0m\u001b[0mdata\u001b[0m\u001b[0;34m[\u001b[0m\u001b[0;34m\"duration\"\u001b[0m\u001b[0;34m]\u001b[0m\u001b[0;34m)\u001b[0m\u001b[0;34m\u001b[0m\u001b[0m\n\u001b[0m",
      "\u001b[0;31mKeyError\u001b[0m: 'duration'"
     ]
    }
   ],
   "source": [
    "print (data[\"duration\"])"
   ]
  },
  {
   "cell_type": "markdown",
   "metadata": {},
   "source": [
    "In your playing, you might have tried calling up \"risetime\" and gotten an error! Why is that?<p>\n",
    "    You should note the nested curly brackets (\"{ }\"). In <b>data</b>, there are only two \"headers\": \"message\" and \"response\". However, \"response\" has a nested array within it that has multiple arrays. In short, we have a 3-dimensional table.\n",
    "    \n",
    "<img src=\"https://upload.wikimedia.org/wikipedia/commons/d/d7/8-cell.gif\">A rotating hypercube (Credit: Wikimedia)\n",
    "<p><hr>"
   ]
  },
  {
   "cell_type": "markdown",
   "metadata": {},
   "source": [
    "<h2>Getting to tables</h2>\n",
    "Let's now create a dataframe from our json file. I've provided the code below, but you may want to read up on how flexible <code>from_dict</code> can be in creating arrays from dictionaries!"
   ]
  },
  {
   "cell_type": "code",
   "execution_count": 12,
   "metadata": {},
   "outputs": [],
   "source": [
    "df = pd.DataFrame.from_dict(json_normalize(data[\"response\"]), orient='columns')"
   ]
  },
  {
   "cell_type": "code",
   "execution_count": 13,
   "metadata": {},
   "outputs": [
    {
     "data": {
      "text/html": [
       "<div>\n",
       "<style scoped>\n",
       "    .dataframe tbody tr th:only-of-type {\n",
       "        vertical-align: middle;\n",
       "    }\n",
       "\n",
       "    .dataframe tbody tr th {\n",
       "        vertical-align: top;\n",
       "    }\n",
       "\n",
       "    .dataframe thead th {\n",
       "        text-align: right;\n",
       "    }\n",
       "</style>\n",
       "<table border=\"1\" class=\"dataframe\">\n",
       "  <thead>\n",
       "    <tr style=\"text-align: right;\">\n",
       "      <th></th>\n",
       "      <th>duration</th>\n",
       "      <th>risetime</th>\n",
       "    </tr>\n",
       "  </thead>\n",
       "  <tbody>\n",
       "    <tr>\n",
       "      <th>0</th>\n",
       "      <td>548</td>\n",
       "      <td>1600981523</td>\n",
       "    </tr>\n",
       "    <tr>\n",
       "      <th>1</th>\n",
       "      <td>655</td>\n",
       "      <td>1600987253</td>\n",
       "    </tr>\n",
       "    <tr>\n",
       "      <th>2</th>\n",
       "      <td>612</td>\n",
       "      <td>1600993108</td>\n",
       "    </tr>\n",
       "    <tr>\n",
       "      <th>3</th>\n",
       "      <td>592</td>\n",
       "      <td>1600998980</td>\n",
       "    </tr>\n",
       "    <tr>\n",
       "      <th>4</th>\n",
       "      <td>642</td>\n",
       "      <td>1601004806</td>\n",
       "    </tr>\n",
       "  </tbody>\n",
       "</table>\n",
       "</div>"
      ],
      "text/plain": [
       "   duration    risetime\n",
       "0       548  1600981523\n",
       "1       655  1600987253\n",
       "2       612  1600993108\n",
       "3       592  1600998980\n",
       "4       642  1601004806"
      ]
     },
     "execution_count": 13,
     "metadata": {},
     "output_type": "execute_result"
    }
   ],
   "source": [
    "df"
   ]
  },
  {
   "cell_type": "markdown",
   "metadata": {},
   "source": [
    "<hr>We have to do something about UNIX time... The command to convert time time can be found here. Try creating a new column called 'risetime' using the Pandas command \"to_datetime\".\n",
    "<p><i>Hints</i>:\n",
    "<ul>\n",
    "    <li>Read the documentation for how to implement this!</li>\n",
    "    <li>The units of the given time from the API is in seconds (or 's').</li>"
   ]
  },
  {
   "cell_type": "code",
   "execution_count": 14,
   "metadata": {},
   "outputs": [],
   "source": [
    "df['risetimeHUMAN']=pd.to_datetime(df['risetime'],unit='s')"
   ]
  },
  {
   "cell_type": "code",
   "execution_count": 15,
   "metadata": {},
   "outputs": [
    {
     "data": {
      "text/html": [
       "<div>\n",
       "<style scoped>\n",
       "    .dataframe tbody tr th:only-of-type {\n",
       "        vertical-align: middle;\n",
       "    }\n",
       "\n",
       "    .dataframe tbody tr th {\n",
       "        vertical-align: top;\n",
       "    }\n",
       "\n",
       "    .dataframe thead th {\n",
       "        text-align: right;\n",
       "    }\n",
       "</style>\n",
       "<table border=\"1\" class=\"dataframe\">\n",
       "  <thead>\n",
       "    <tr style=\"text-align: right;\">\n",
       "      <th></th>\n",
       "      <th>duration</th>\n",
       "      <th>risetime</th>\n",
       "      <th>risetimeHUMAN</th>\n",
       "    </tr>\n",
       "  </thead>\n",
       "  <tbody>\n",
       "    <tr>\n",
       "      <th>0</th>\n",
       "      <td>548</td>\n",
       "      <td>1600981523</td>\n",
       "      <td>2020-09-24 21:05:23</td>\n",
       "    </tr>\n",
       "    <tr>\n",
       "      <th>1</th>\n",
       "      <td>655</td>\n",
       "      <td>1600987253</td>\n",
       "      <td>2020-09-24 22:40:53</td>\n",
       "    </tr>\n",
       "    <tr>\n",
       "      <th>2</th>\n",
       "      <td>612</td>\n",
       "      <td>1600993108</td>\n",
       "      <td>2020-09-25 00:18:28</td>\n",
       "    </tr>\n",
       "    <tr>\n",
       "      <th>3</th>\n",
       "      <td>592</td>\n",
       "      <td>1600998980</td>\n",
       "      <td>2020-09-25 01:56:20</td>\n",
       "    </tr>\n",
       "    <tr>\n",
       "      <th>4</th>\n",
       "      <td>642</td>\n",
       "      <td>1601004806</td>\n",
       "      <td>2020-09-25 03:33:26</td>\n",
       "    </tr>\n",
       "  </tbody>\n",
       "</table>\n",
       "</div>"
      ],
      "text/plain": [
       "   duration    risetime       risetimeHUMAN\n",
       "0       548  1600981523 2020-09-24 21:05:23\n",
       "1       655  1600987253 2020-09-24 22:40:53\n",
       "2       612  1600993108 2020-09-25 00:18:28\n",
       "3       592  1600998980 2020-09-25 01:56:20\n",
       "4       642  1601004806 2020-09-25 03:33:26"
      ]
     },
     "execution_count": 15,
     "metadata": {},
     "output_type": "execute_result"
    }
   ],
   "source": [
    "#view your dataframe\n",
    "df"
   ]
  },
  {
   "cell_type": "code",
   "execution_count": null,
   "metadata": {},
   "outputs": [],
   "source": []
  }
 ],
 "metadata": {
  "kernelspec": {
   "display_name": "Python 3",
   "language": "python",
   "name": "python3"
  },
  "language_info": {
   "codemirror_mode": {
    "name": "ipython",
    "version": 3
   },
   "file_extension": ".py",
   "mimetype": "text/x-python",
   "name": "python",
   "nbconvert_exporter": "python",
   "pygments_lexer": "ipython3",
   "version": "3.6.6"
  }
 },
 "nbformat": 4,
 "nbformat_minor": 2
}
