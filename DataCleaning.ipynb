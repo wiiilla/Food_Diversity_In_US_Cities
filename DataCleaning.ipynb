{
 "cells": [
  {
   "cell_type": "markdown",
   "metadata": {},
   "source": [
    "# Data Cleaning for URP 353, Assignment 2"
   ]
  },
  {
   "cell_type": "code",
   "execution_count": 1,
   "metadata": {},
   "outputs": [],
   "source": [
    "import pandas as pd"
   ]
  },
  {
   "cell_type": "markdown",
   "metadata": {},
   "source": [
    "## Read cached yelp data and drop NAs"
   ]
  },
  {
   "cell_type": "code",
   "execution_count": 2,
   "metadata": {},
   "outputs": [],
   "source": [
    "food_diversity = pd.read_json('food_diversity.json', orient = 'records')"
   ]
  },
  {
   "cell_type": "code",
   "execution_count": 3,
   "metadata": {},
   "outputs": [
    {
     "data": {
      "text/plain": [
       "(3876, 5)"
      ]
     },
     "execution_count": 3,
     "metadata": {},
     "output_type": "execute_result"
    }
   ],
   "source": [
    "food_diversity.shape"
   ]
  },
  {
   "cell_type": "code",
   "execution_count": 4,
   "metadata": {},
   "outputs": [
    {
     "data": {
      "text/html": [
       "<div>\n",
       "<style scoped>\n",
       "    .dataframe tbody tr th:only-of-type {\n",
       "        vertical-align: middle;\n",
       "    }\n",
       "\n",
       "    .dataframe tbody tr th {\n",
       "        vertical-align: top;\n",
       "    }\n",
       "\n",
       "    .dataframe thead th {\n",
       "        text-align: right;\n",
       "    }\n",
       "</style>\n",
       "<table border=\"1\" class=\"dataframe\">\n",
       "  <thead>\n",
       "    <tr style=\"text-align: right;\">\n",
       "      <th></th>\n",
       "      <th>query</th>\n",
       "      <th>category</th>\n",
       "      <th>total_business_count</th>\n",
       "      <th>sample_rating</th>\n",
       "      <th>sample_review_count</th>\n",
       "    </tr>\n",
       "  </thead>\n",
       "  <tbody>\n",
       "    <tr>\n",
       "      <th>3702</th>\n",
       "      <td>Wichita, Kansas</td>\n",
       "      <td>persian</td>\n",
       "      <td>0</td>\n",
       "      <td>NA</td>\n",
       "      <td>NA</td>\n",
       "    </tr>\n",
       "    <tr>\n",
       "      <th>2210</th>\n",
       "      <td>Las Vegas, Nevada</td>\n",
       "      <td>austrian</td>\n",
       "      <td>0</td>\n",
       "      <td>NA</td>\n",
       "      <td>NA</td>\n",
       "    </tr>\n",
       "    <tr>\n",
       "      <th>171</th>\n",
       "      <td>Chicago, Illinois</td>\n",
       "      <td>cuban</td>\n",
       "      <td>31</td>\n",
       "      <td>4.20968</td>\n",
       "      <td>315.452</td>\n",
       "    </tr>\n",
       "    <tr>\n",
       "      <th>3294</th>\n",
       "      <td>Miami, Florida</td>\n",
       "      <td>german</td>\n",
       "      <td>5</td>\n",
       "      <td>3.8</td>\n",
       "      <td>197.2</td>\n",
       "    </tr>\n",
       "    <tr>\n",
       "      <th>305</th>\n",
       "      <td>Philadelphia, Pennsylvania</td>\n",
       "      <td>african</td>\n",
       "      <td>23</td>\n",
       "      <td>3.73913</td>\n",
       "      <td>25.3043</td>\n",
       "    </tr>\n",
       "  </tbody>\n",
       "</table>\n",
       "</div>"
      ],
      "text/plain": [
       "                           query  category  total_business_count  \\\n",
       "3702             Wichita, Kansas   persian                     0   \n",
       "2210           Las Vegas, Nevada  austrian                     0   \n",
       "171            Chicago, Illinois     cuban                    31   \n",
       "3294              Miami, Florida    german                     5   \n",
       "305   Philadelphia, Pennsylvania   african                    23   \n",
       "\n",
       "     sample_rating sample_review_count  \n",
       "3702            NA                  NA  \n",
       "2210            NA                  NA  \n",
       "171        4.20968             315.452  \n",
       "3294           3.8               197.2  \n",
       "305        3.73913             25.3043  "
      ]
     },
     "execution_count": 4,
     "metadata": {},
     "output_type": "execute_result"
    }
   ],
   "source": [
    "food_diversity.sample(5)"
   ]
  },
  {
   "cell_type": "code",
   "execution_count": 5,
   "metadata": {},
   "outputs": [
    {
     "data": {
      "text/html": [
       "<div>\n",
       "<style scoped>\n",
       "    .dataframe tbody tr th:only-of-type {\n",
       "        vertical-align: middle;\n",
       "    }\n",
       "\n",
       "    .dataframe tbody tr th {\n",
       "        vertical-align: top;\n",
       "    }\n",
       "\n",
       "    .dataframe thead th {\n",
       "        text-align: right;\n",
       "    }\n",
       "</style>\n",
       "<table border=\"1\" class=\"dataframe\">\n",
       "  <thead>\n",
       "    <tr style=\"text-align: right;\">\n",
       "      <th></th>\n",
       "      <th>query</th>\n",
       "      <th>category</th>\n",
       "      <th>total_business_count</th>\n",
       "      <th>sample_rating</th>\n",
       "      <th>sample_review_count</th>\n",
       "    </tr>\n",
       "  </thead>\n",
       "  <tbody>\n",
       "    <tr>\n",
       "      <th>0</th>\n",
       "      <td>New York, New York</td>\n",
       "      <td>afghani</td>\n",
       "      <td>18</td>\n",
       "      <td>3.75</td>\n",
       "      <td>150.111</td>\n",
       "    </tr>\n",
       "    <tr>\n",
       "      <th>1</th>\n",
       "      <td>New York, New York</td>\n",
       "      <td>african</td>\n",
       "      <td>48</td>\n",
       "      <td>4.11458</td>\n",
       "      <td>115.646</td>\n",
       "    </tr>\n",
       "    <tr>\n",
       "      <th>2</th>\n",
       "      <td>New York, New York</td>\n",
       "      <td>arabian</td>\n",
       "      <td>5</td>\n",
       "      <td>3.9</td>\n",
       "      <td>51.6</td>\n",
       "    </tr>\n",
       "    <tr>\n",
       "      <th>3</th>\n",
       "      <td>New York, New York</td>\n",
       "      <td>argentine</td>\n",
       "      <td>21</td>\n",
       "      <td>3.90476</td>\n",
       "      <td>182.857</td>\n",
       "    </tr>\n",
       "    <tr>\n",
       "      <th>4</th>\n",
       "      <td>New York, New York</td>\n",
       "      <td>armenian</td>\n",
       "      <td>5</td>\n",
       "      <td>4.5</td>\n",
       "      <td>27.4</td>\n",
       "    </tr>\n",
       "  </tbody>\n",
       "</table>\n",
       "</div>"
      ],
      "text/plain": [
       "                query   category  total_business_count sample_rating  \\\n",
       "0  New York, New York    afghani                    18          3.75   \n",
       "1  New York, New York    african                    48       4.11458   \n",
       "2  New York, New York    arabian                     5           3.9   \n",
       "3  New York, New York  argentine                    21       3.90476   \n",
       "4  New York, New York   armenian                     5           4.5   \n",
       "\n",
       "  sample_review_count  \n",
       "0             150.111  \n",
       "1             115.646  \n",
       "2                51.6  \n",
       "3             182.857  \n",
       "4                27.4  "
      ]
     },
     "execution_count": 5,
     "metadata": {},
     "output_type": "execute_result"
    }
   ],
   "source": [
    "food_diversity.head(5)"
   ]
  },
  {
   "cell_type": "markdown",
   "metadata": {},
   "source": [
    "Look at summary statistics for total_business count"
   ]
  },
  {
   "cell_type": "code",
   "execution_count": 6,
   "metadata": {},
   "outputs": [
    {
     "data": {
      "text/html": [
       "<div>\n",
       "<style scoped>\n",
       "    .dataframe tbody tr th:only-of-type {\n",
       "        vertical-align: middle;\n",
       "    }\n",
       "\n",
       "    .dataframe tbody tr th {\n",
       "        vertical-align: top;\n",
       "    }\n",
       "\n",
       "    .dataframe thead th {\n",
       "        text-align: right;\n",
       "    }\n",
       "</style>\n",
       "<table border=\"1\" class=\"dataframe\">\n",
       "  <thead>\n",
       "    <tr style=\"text-align: right;\">\n",
       "      <th></th>\n",
       "      <th>total_business_count</th>\n",
       "    </tr>\n",
       "  </thead>\n",
       "  <tbody>\n",
       "    <tr>\n",
       "      <th>count</th>\n",
       "      <td>3876.000000</td>\n",
       "    </tr>\n",
       "    <tr>\n",
       "      <th>mean</th>\n",
       "      <td>25.761868</td>\n",
       "    </tr>\n",
       "    <tr>\n",
       "      <th>std</th>\n",
       "      <td>94.006502</td>\n",
       "    </tr>\n",
       "    <tr>\n",
       "      <th>min</th>\n",
       "      <td>0.000000</td>\n",
       "    </tr>\n",
       "    <tr>\n",
       "      <th>25%</th>\n",
       "      <td>0.000000</td>\n",
       "    </tr>\n",
       "    <tr>\n",
       "      <th>50%</th>\n",
       "      <td>3.000000</td>\n",
       "    </tr>\n",
       "    <tr>\n",
       "      <th>75%</th>\n",
       "      <td>10.000000</td>\n",
       "    </tr>\n",
       "    <tr>\n",
       "      <th>max</th>\n",
       "      <td>1800.000000</td>\n",
       "    </tr>\n",
       "  </tbody>\n",
       "</table>\n",
       "</div>"
      ],
      "text/plain": [
       "       total_business_count\n",
       "count           3876.000000\n",
       "mean              25.761868\n",
       "std               94.006502\n",
       "min                0.000000\n",
       "25%                0.000000\n",
       "50%                3.000000\n",
       "75%               10.000000\n",
       "max             1800.000000"
      ]
     },
     "execution_count": 6,
     "metadata": {},
     "output_type": "execute_result"
    }
   ],
   "source": [
    "food_diversity.describe()"
   ]
  },
  {
   "cell_type": "markdown",
   "metadata": {},
   "source": [
    "Look at number of NAs and Errors"
   ]
  },
  {
   "cell_type": "code",
   "execution_count": 7,
   "metadata": {},
   "outputs": [
    {
     "data": {
      "text/plain": [
       "0       1204\n",
       "1        422\n",
       "5        262\n",
       "2        256\n",
       "6        172\n",
       "        ... \n",
       "1800       1\n",
       "545        1\n",
       "1600       1\n",
       "1400       1\n",
       "939        1\n",
       "Name: total_business_count, Length: 274, dtype: int64"
      ]
     },
     "execution_count": 7,
     "metadata": {},
     "output_type": "execute_result"
    }
   ],
   "source": [
    "food_diversity['total_business_count'].value_counts()"
   ]
  },
  {
   "cell_type": "code",
   "execution_count": 8,
   "metadata": {},
   "outputs": [
    {
     "data": {
      "text/plain": [
       "NA                   1187\n",
       "4.0                   329\n",
       "4.5                   265\n",
       "4.25                  131\n",
       "3.75                   82\n",
       "                     ... \n",
       "4.235294117647059       1\n",
       "3.191176470588235       1\n",
       "3.1                     1\n",
       "4.105263157894737       1\n",
       "3.802325581395349       1\n",
       "Name: sample_rating, Length: 409, dtype: int64"
      ]
     },
     "execution_count": 8,
     "metadata": {},
     "output_type": "execute_result"
    }
   ],
   "source": [
    "food_diversity['sample_rating'].value_counts()"
   ]
  },
  {
   "cell_type": "code",
   "execution_count": 9,
   "metadata": {},
   "outputs": [
    {
     "data": {
      "text/plain": [
       "17"
      ]
     },
     "execution_count": 9,
     "metadata": {},
     "output_type": "execute_result"
    }
   ],
   "source": [
    "food_diversity['sample_rating'].value_counts().loc['Error']"
   ]
  },
  {
   "cell_type": "markdown",
   "metadata": {},
   "source": [
    "### Calculate Server Stataus 500 error rate"
   ]
  },
  {
   "cell_type": "code",
   "execution_count": 10,
   "metadata": {},
   "outputs": [
    {
     "data": {
      "text/plain": [
       "0.0043859649122807015"
      ]
     },
     "execution_count": 10,
     "metadata": {},
     "output_type": "execute_result"
    }
   ],
   "source": [
    "food_diversity['sample_rating'].value_counts().loc['Error'] / food_diversity.shape[0]"
   ]
  },
  {
   "cell_type": "markdown",
   "metadata": {},
   "source": [
    "### Drop categories with 0 businesses and errors"
   ]
  },
  {
   "cell_type": "code",
   "execution_count": 11,
   "metadata": {},
   "outputs": [
    {
     "data": {
      "text/plain": [
       "(2672, 5)"
      ]
     },
     "execution_count": 11,
     "metadata": {},
     "output_type": "execute_result"
    }
   ],
   "source": [
    "food_diversity = food_diversity[ (food_diversity['sample_rating'] != 'Error') \n",
    "                                & (food_diversity['sample_rating'] != 'NA')]\n",
    "food_diversity.shape"
   ]
  },
  {
   "cell_type": "code",
   "execution_count": null,
   "metadata": {},
   "outputs": [],
   "source": []
  },
  {
   "cell_type": "markdown",
   "metadata": {},
   "source": [
    "## Create country data to look up each food category for mapping"
   ]
  },
  {
   "cell_type": "markdown",
   "metadata": {},
   "source": [
    "External data set from github user Dinuks, ISO 3166-1 Country + Nationality listing in multiple formats"
   ]
  },
  {
   "cell_type": "code",
   "execution_count": 12,
   "metadata": {},
   "outputs": [
    {
     "data": {
      "text/html": [
       "<div>\n",
       "<style scoped>\n",
       "    .dataframe tbody tr th:only-of-type {\n",
       "        vertical-align: middle;\n",
       "    }\n",
       "\n",
       "    .dataframe tbody tr th {\n",
       "        vertical-align: top;\n",
       "    }\n",
       "\n",
       "    .dataframe thead th {\n",
       "        text-align: right;\n",
       "    }\n",
       "</style>\n",
       "<table border=\"1\" class=\"dataframe\">\n",
       "  <thead>\n",
       "    <tr style=\"text-align: right;\">\n",
       "      <th></th>\n",
       "      <th>0</th>\n",
       "      <th>category</th>\n",
       "    </tr>\n",
       "  </thead>\n",
       "  <tbody>\n",
       "    <tr>\n",
       "      <th>0</th>\n",
       "      <td>afghani</td>\n",
       "      <td>Afghani</td>\n",
       "    </tr>\n",
       "    <tr>\n",
       "      <th>1</th>\n",
       "      <td>african</td>\n",
       "      <td>African</td>\n",
       "    </tr>\n",
       "    <tr>\n",
       "      <th>2</th>\n",
       "      <td>arabian</td>\n",
       "      <td>Arabian</td>\n",
       "    </tr>\n",
       "    <tr>\n",
       "      <th>3</th>\n",
       "      <td>argentine</td>\n",
       "      <td>Argentine</td>\n",
       "    </tr>\n",
       "    <tr>\n",
       "      <th>4</th>\n",
       "      <td>armenian</td>\n",
       "      <td>Armenian</td>\n",
       "    </tr>\n",
       "    <tr>\n",
       "      <th>...</th>\n",
       "      <td>...</td>\n",
       "      <td>...</td>\n",
       "    </tr>\n",
       "    <tr>\n",
       "      <th>71</th>\n",
       "      <td>uzbek</td>\n",
       "      <td>Uzbek</td>\n",
       "    </tr>\n",
       "    <tr>\n",
       "      <th>72</th>\n",
       "      <td>vietnamese</td>\n",
       "      <td>Vietnamese</td>\n",
       "    </tr>\n",
       "    <tr>\n",
       "      <th>73</th>\n",
       "      <td>nicaraguan</td>\n",
       "      <td>Nicaraguan</td>\n",
       "    </tr>\n",
       "    <tr>\n",
       "      <th>74</th>\n",
       "      <td>bulgarian</td>\n",
       "      <td>Bulgarian</td>\n",
       "    </tr>\n",
       "    <tr>\n",
       "      <th>75</th>\n",
       "      <td>guamanian</td>\n",
       "      <td>Guamanian</td>\n",
       "    </tr>\n",
       "  </tbody>\n",
       "</table>\n",
       "<p>76 rows × 2 columns</p>\n",
       "</div>"
      ],
      "text/plain": [
       "             0    category\n",
       "0      afghani     Afghani\n",
       "1      african     African\n",
       "2      arabian     Arabian\n",
       "3    argentine   Argentine\n",
       "4     armenian    Armenian\n",
       "..         ...         ...\n",
       "71       uzbek       Uzbek\n",
       "72  vietnamese  Vietnamese\n",
       "73  nicaraguan  Nicaraguan\n",
       "74   bulgarian   Bulgarian\n",
       "75   guamanian   Guamanian\n",
       "\n",
       "[76 rows x 2 columns]"
      ]
     },
     "execution_count": 12,
     "metadata": {},
     "output_type": "execute_result"
    }
   ],
   "source": [
    "cetegories = pd.DataFrame(food_diversity['category'].unique())\n",
    "cetegories['category'] = cetegories[0].str.capitalize()\n",
    "cetegories"
   ]
  },
  {
   "cell_type": "code",
   "execution_count": 13,
   "metadata": {},
   "outputs": [],
   "source": [
    "country_codes = pd.read_csv('https://raw.githubusercontent.com/Dinuks/country-nationality-list/master/countries.csv')"
   ]
  },
  {
   "cell_type": "code",
   "execution_count": 14,
   "metadata": {},
   "outputs": [
    {
     "data": {
      "text/html": [
       "<div>\n",
       "<style scoped>\n",
       "    .dataframe tbody tr th:only-of-type {\n",
       "        vertical-align: middle;\n",
       "    }\n",
       "\n",
       "    .dataframe tbody tr th {\n",
       "        vertical-align: top;\n",
       "    }\n",
       "\n",
       "    .dataframe thead th {\n",
       "        text-align: right;\n",
       "    }\n",
       "</style>\n",
       "<table border=\"1\" class=\"dataframe\">\n",
       "  <thead>\n",
       "    <tr style=\"text-align: right;\">\n",
       "      <th></th>\n",
       "      <th>num_code</th>\n",
       "      <th>alpha_2_code</th>\n",
       "      <th>alpha_3_code</th>\n",
       "      <th>en_short_name</th>\n",
       "      <th>nationality</th>\n",
       "    </tr>\n",
       "  </thead>\n",
       "  <tbody>\n",
       "    <tr>\n",
       "      <th>31</th>\n",
       "      <td>76</td>\n",
       "      <td>BR</td>\n",
       "      <td>BRA</td>\n",
       "      <td>Brazil</td>\n",
       "      <td>Brazilian</td>\n",
       "    </tr>\n",
       "  </tbody>\n",
       "</table>\n",
       "</div>"
      ],
      "text/plain": [
       "    num_code alpha_2_code alpha_3_code en_short_name nationality\n",
       "31        76           BR          BRA        Brazil   Brazilian"
      ]
     },
     "execution_count": 14,
     "metadata": {},
     "output_type": "execute_result"
    }
   ],
   "source": [
    "country_codes.sample(1)"
   ]
  },
  {
   "cell_type": "code",
   "execution_count": 15,
   "metadata": {},
   "outputs": [],
   "source": [
    "country_lookup = pd.merge( country_codes, cetegories, how = 'inner', left_on = 'nationality', right_on = 'category' )"
   ]
  },
  {
   "cell_type": "code",
   "execution_count": 16,
   "metadata": {},
   "outputs": [],
   "source": [
    "country_lookup = country_lookup[['num_code', 'en_short_name', 'category' ]]"
   ]
  },
  {
   "cell_type": "code",
   "execution_count": 17,
   "metadata": {},
   "outputs": [
    {
     "data": {
      "text/plain": [
       "(40, 3)"
      ]
     },
     "execution_count": 17,
     "metadata": {},
     "output_type": "execute_result"
    }
   ],
   "source": [
    "country_lookup.shape"
   ]
  },
  {
   "cell_type": "markdown",
   "metadata": {},
   "source": [
    "Manually add non-matching countries"
   ]
  },
  {
   "cell_type": "code",
   "execution_count": 18,
   "metadata": {},
   "outputs": [
    {
     "data": {
      "text/plain": [
       "['Afghani',\n",
       " 'African',\n",
       " 'Arabian',\n",
       " 'Basque',\n",
       " 'British',\n",
       " 'Cajun',\n",
       " 'Caribbean',\n",
       " 'Catalan',\n",
       " 'Filipino',\n",
       " 'Halal',\n",
       " 'Hawaiian',\n",
       " 'Himalayan',\n",
       " 'Hungarian',\n",
       " 'Iberian',\n",
       " 'Korean',\n",
       " 'Kosher',\n",
       " 'Laotian',\n",
       " 'Latin',\n",
       " 'Mediterranean',\n",
       " 'Mideastern',\n",
       " 'Modern_european',\n",
       " 'Newamerican',\n",
       " 'Newmexican',\n",
       " 'Panasian',\n",
       " 'Persian',\n",
       " 'Piadina',\n",
       " 'Polynesian',\n",
       " 'Scandinavian',\n",
       " 'Scottish',\n",
       " 'Slovakian',\n",
       " 'Somali',\n",
       " 'Srilankan',\n",
       " 'Taiwanese',\n",
       " 'Tradamerican',\n",
       " 'Uzbek',\n",
       " 'Guamanian']"
      ]
     },
     "execution_count": 18,
     "metadata": {},
     "output_type": "execute_result"
    }
   ],
   "source": [
    "[x for x in cetegories['category'].to_list() if x not in country_codes['nationality'].to_list()]"
   ]
  },
  {
   "cell_type": "code",
   "execution_count": 19,
   "metadata": {},
   "outputs": [],
   "source": [
    "country_lookup = country_lookup.append({'num_code': 826,\n",
    "                       'en_short_name':'United Kingdom of Great Britain and Northern Ireland',\n",
    "                       'category': 'British'}, ignore_index=True).append({'num_code': 682,\n",
    "                       'en_short_name':'Saudi Arabia',\n",
    "                       'category': 'Arabian'}, ignore_index=True).append({'num_code': 608,\n",
    "                       'en_short_name':'Philippines',\n",
    "                       'category': 'Filipino'}, ignore_index=True).append({'num_code': 348,\n",
    "                       'en_short_name':'Hungary',\n",
    "                       'category': 'Hungarian'}, ignore_index=True).append({'num_code': 408,\n",
    "                       'en_short_name':\"Korea (Democratic People's Republic of)\",\n",
    "                       'category': 'Korean'}, ignore_index=True).append({'num_code': 410,\n",
    "                       'en_short_name':'Korea (Republic of)',\n",
    "                       'category': 'Korean'}, ignore_index=True).append({'num_code': 418,\n",
    "                       'en_short_name':\"Lao People's Democratic Republic\",\n",
    "                       'category': 'Laotian'}, ignore_index=True).append({'num_code': 364,\n",
    "                       'en_short_name':'Iran',\n",
    "                       'category': 'Persian'}, ignore_index=True).append({'num_code': 703,\n",
    "                       'en_short_name':'Slovakia',\n",
    "                       'category': 'Slovakian'}, ignore_index=True).append({'num_code': 706,\n",
    "                       'en_short_name':'Somalia',\n",
    "                       'category': 'Somali'}, ignore_index=True).append({'num_code': 144,\n",
    "                       'en_short_name':'Sri lanka',\n",
    "                       'category': 'Sri lankan'}, ignore_index=True).append({'num_code': 706,\n",
    "                       'en_short_name':'Somalia',\n",
    "                       'category': 'Somali'}, ignore_index=True).append({'num_code': 158,\n",
    "                       'en_short_name':'Taiwan, Province of China',\n",
    "                       'category': 'Taiwanese'}, ignore_index=True).append({'num_code': 860,\n",
    "                       'en_short_name':'Uzbekistan',\n",
    "                       'category': 'Uzbek'}, ignore_index=True).append({'num_code': 316,\n",
    "                       'en_short_name':'Guam',\n",
    "                       'category': 'Guamanian'}, ignore_index=True).append({'num_code': 840,\n",
    "                       'en_short_name':'United States of America',\n",
    "                       'category': 'Tradamerican'}, ignore_index=True).append({'num_code': 840,\n",
    "                       'en_short_name':'United States of America',\n",
    "                       'category': 'Newamerican'}, ignore_index=True)"
   ]
  },
  {
   "cell_type": "code",
   "execution_count": 20,
   "metadata": {},
   "outputs": [
    {
     "data": {
      "text/plain": [
       "(57, 3)"
      ]
     },
     "execution_count": 20,
     "metadata": {},
     "output_type": "execute_result"
    }
   ],
   "source": [
    "country_lookup.shape"
   ]
  },
  {
   "cell_type": "code",
   "execution_count": 21,
   "metadata": {},
   "outputs": [],
   "source": [
    "country_lookup['category'] = country_lookup['category'].str.lower()"
   ]
  },
  {
   "cell_type": "code",
   "execution_count": 22,
   "metadata": {},
   "outputs": [
    {
     "data": {
      "text/html": [
       "<div>\n",
       "<style scoped>\n",
       "    .dataframe tbody tr th:only-of-type {\n",
       "        vertical-align: middle;\n",
       "    }\n",
       "\n",
       "    .dataframe tbody tr th {\n",
       "        vertical-align: top;\n",
       "    }\n",
       "\n",
       "    .dataframe thead th {\n",
       "        text-align: right;\n",
       "    }\n",
       "</style>\n",
       "<table border=\"1\" class=\"dataframe\">\n",
       "  <thead>\n",
       "    <tr style=\"text-align: right;\">\n",
       "      <th></th>\n",
       "      <th>num_code</th>\n",
       "      <th>en_short_name</th>\n",
       "      <th>category</th>\n",
       "    </tr>\n",
       "  </thead>\n",
       "  <tbody>\n",
       "    <tr>\n",
       "      <th>0</th>\n",
       "      <td>32</td>\n",
       "      <td>Argentina</td>\n",
       "      <td>argentine</td>\n",
       "    </tr>\n",
       "    <tr>\n",
       "      <th>1</th>\n",
       "      <td>51</td>\n",
       "      <td>Armenia</td>\n",
       "      <td>armenian</td>\n",
       "    </tr>\n",
       "    <tr>\n",
       "      <th>2</th>\n",
       "      <td>36</td>\n",
       "      <td>Australia</td>\n",
       "      <td>australian</td>\n",
       "    </tr>\n",
       "    <tr>\n",
       "      <th>3</th>\n",
       "      <td>40</td>\n",
       "      <td>Austria</td>\n",
       "      <td>austrian</td>\n",
       "    </tr>\n",
       "    <tr>\n",
       "      <th>4</th>\n",
       "      <td>50</td>\n",
       "      <td>Bangladesh</td>\n",
       "      <td>bangladeshi</td>\n",
       "    </tr>\n",
       "  </tbody>\n",
       "</table>\n",
       "</div>"
      ],
      "text/plain": [
       "   num_code en_short_name     category\n",
       "0        32     Argentina    argentine\n",
       "1        51       Armenia     armenian\n",
       "2        36     Australia   australian\n",
       "3        40       Austria     austrian\n",
       "4        50    Bangladesh  bangladeshi"
      ]
     },
     "execution_count": 22,
     "metadata": {},
     "output_type": "execute_result"
    }
   ],
   "source": [
    "country_lookup.head()"
   ]
  },
  {
   "cell_type": "markdown",
   "metadata": {},
   "source": [
    "Remaining categories that cannot be mapped to a country"
   ]
  },
  {
   "cell_type": "code",
   "execution_count": 23,
   "metadata": {},
   "outputs": [
    {
     "data": {
      "text/plain": [
       "['Afghani',\n",
       " 'African',\n",
       " 'Arabian',\n",
       " 'Argentine',\n",
       " 'Armenian',\n",
       " 'Australian',\n",
       " 'Austrian',\n",
       " 'Bangladeshi',\n",
       " 'Basque',\n",
       " 'Belgian',\n",
       " 'Brazilian',\n",
       " 'British',\n",
       " 'Burmese',\n",
       " 'Cajun',\n",
       " 'Cambodian',\n",
       " 'Caribbean',\n",
       " 'Catalan',\n",
       " 'Chinese',\n",
       " 'Cuban',\n",
       " 'Czech',\n",
       " 'Eritrean',\n",
       " 'Ethiopian',\n",
       " 'Filipino',\n",
       " 'French',\n",
       " 'Georgian',\n",
       " 'German',\n",
       " 'Halal',\n",
       " 'Hawaiian',\n",
       " 'Himalayan',\n",
       " 'Honduran',\n",
       " 'Hungarian',\n",
       " 'Iberian',\n",
       " 'Indonesian',\n",
       " 'Irish',\n",
       " 'Italian',\n",
       " 'Japanese',\n",
       " 'Korean',\n",
       " 'Kosher',\n",
       " 'Laotian',\n",
       " 'Latin',\n",
       " 'Malaysian',\n",
       " 'Mediterranean',\n",
       " 'Mexican',\n",
       " 'Mideastern',\n",
       " 'Modern_european',\n",
       " 'Mongolian',\n",
       " 'Moroccan',\n",
       " 'Newamerican',\n",
       " 'Newmexican',\n",
       " 'Pakistani',\n",
       " 'Panasian',\n",
       " 'Persian',\n",
       " 'Peruvian',\n",
       " 'Piadina',\n",
       " 'Polish',\n",
       " 'Polynesian',\n",
       " 'Portuguese',\n",
       " 'Russian',\n",
       " 'Scandinavian',\n",
       " 'Scottish',\n",
       " 'Singaporean',\n",
       " 'Slovakian',\n",
       " 'Somali',\n",
       " 'Spanish',\n",
       " 'Srilankan',\n",
       " 'Syrian',\n",
       " 'Taiwanese',\n",
       " 'Thai',\n",
       " 'Tradamerican',\n",
       " 'Turkish',\n",
       " 'Ukrainian',\n",
       " 'Uzbek',\n",
       " 'Vietnamese',\n",
       " 'Nicaraguan',\n",
       " 'Bulgarian',\n",
       " 'Guamanian']"
      ]
     },
     "execution_count": 23,
     "metadata": {},
     "output_type": "execute_result"
    }
   ],
   "source": [
    "[x for x in cetegories['category'].to_list() if x not in country_lookup['category'].to_list()]"
   ]
  },
  {
   "cell_type": "markdown",
   "metadata": {},
   "source": [
    "## Aggregate country name, country code, and human-friendly category name together"
   ]
  },
  {
   "cell_type": "code",
   "execution_count": 48,
   "metadata": {},
   "outputs": [],
   "source": [
    "US_catagories = pd.read_csv('Yelp_US_categories.csv')"
   ]
  },
  {
   "cell_type": "code",
   "execution_count": 49,
   "metadata": {},
   "outputs": [
    {
     "data": {
      "text/plain": [
       "(2672, 9)"
      ]
     },
     "execution_count": 49,
     "metadata": {},
     "output_type": "execute_result"
    }
   ],
   "source": [
    "food_diversity_cleaned = pd.merge(food_diversity, US_catagories, how = 'left', left_on = 'category', right_on = 'alias')\\\n",
    "    .rename(columns = {'title':'category_name'})\n",
    "food_diversity_cleaned.shape"
   ]
  },
  {
   "cell_type": "code",
   "execution_count": 50,
   "metadata": {},
   "outputs": [
    {
     "data": {
      "text/html": [
       "<div>\n",
       "<style scoped>\n",
       "    .dataframe tbody tr th:only-of-type {\n",
       "        vertical-align: middle;\n",
       "    }\n",
       "\n",
       "    .dataframe tbody tr th {\n",
       "        vertical-align: top;\n",
       "    }\n",
       "\n",
       "    .dataframe thead th {\n",
       "        text-align: right;\n",
       "    }\n",
       "</style>\n",
       "<table border=\"1\" class=\"dataframe\">\n",
       "  <thead>\n",
       "    <tr style=\"text-align: right;\">\n",
       "      <th></th>\n",
       "      <th>query</th>\n",
       "      <th>category</th>\n",
       "      <th>total_business_count</th>\n",
       "      <th>sample_rating</th>\n",
       "      <th>sample_review_count</th>\n",
       "      <th>Unnamed: 0</th>\n",
       "      <th>alias</th>\n",
       "      <th>category_name</th>\n",
       "      <th>parents</th>\n",
       "    </tr>\n",
       "  </thead>\n",
       "  <tbody>\n",
       "    <tr>\n",
       "      <th>0</th>\n",
       "      <td>New York, New York</td>\n",
       "      <td>afghani</td>\n",
       "      <td>18</td>\n",
       "      <td>3.75</td>\n",
       "      <td>150.111</td>\n",
       "      <td>1</td>\n",
       "      <td>afghani</td>\n",
       "      <td>Afghan</td>\n",
       "      <td>restaurants</td>\n",
       "    </tr>\n",
       "  </tbody>\n",
       "</table>\n",
       "</div>"
      ],
      "text/plain": [
       "                query category  total_business_count sample_rating  \\\n",
       "0  New York, New York  afghani                    18          3.75   \n",
       "\n",
       "  sample_review_count  Unnamed: 0    alias category_name      parents  \n",
       "0             150.111           1  afghani        Afghan  restaurants  "
      ]
     },
     "execution_count": 50,
     "metadata": {},
     "output_type": "execute_result"
    }
   ],
   "source": [
    "food_diversity_cleaned.head(1)"
   ]
  },
  {
   "cell_type": "code",
   "execution_count": 51,
   "metadata": {},
   "outputs": [],
   "source": [
    "country_lookup.drop_duplicates(inplace = True)"
   ]
  },
  {
   "cell_type": "code",
   "execution_count": 52,
   "metadata": {},
   "outputs": [
    {
     "data": {
      "text/plain": [
       "(2723, 8)"
      ]
     },
     "execution_count": 52,
     "metadata": {},
     "output_type": "execute_result"
    }
   ],
   "source": [
    "food_diversity_cleaned = pd.merge(food_diversity_cleaned, country_lookup, how = 'left', left_on = 'category', right_on = 'category')\\\n",
    "                        [['query','category','category_name', 'num_code', 'en_short_name', 'total_business_count', 'sample_rating', 'sample_review_count']]\\\n",
    "                        .rename(columns = {\n",
    "                            'query': 'city',\n",
    "                            'num_code':'M49_country_code',\n",
    "                            'en_short_name': 'country'\n",
    "                        })\n",
    "food_diversity_cleaned.shape"
   ]
  },
  {
   "cell_type": "code",
   "execution_count": 53,
   "metadata": {},
   "outputs": [
    {
     "data": {
      "text/html": [
       "<div>\n",
       "<style scoped>\n",
       "    .dataframe tbody tr th:only-of-type {\n",
       "        vertical-align: middle;\n",
       "    }\n",
       "\n",
       "    .dataframe tbody tr th {\n",
       "        vertical-align: top;\n",
       "    }\n",
       "\n",
       "    .dataframe thead th {\n",
       "        text-align: right;\n",
       "    }\n",
       "</style>\n",
       "<table border=\"1\" class=\"dataframe\">\n",
       "  <thead>\n",
       "    <tr style=\"text-align: right;\">\n",
       "      <th></th>\n",
       "      <th>city</th>\n",
       "      <th>category</th>\n",
       "      <th>category_name</th>\n",
       "      <th>M49_country_code</th>\n",
       "      <th>country</th>\n",
       "      <th>total_business_count</th>\n",
       "      <th>sample_rating</th>\n",
       "      <th>sample_review_count</th>\n",
       "    </tr>\n",
       "  </thead>\n",
       "  <tbody>\n",
       "    <tr>\n",
       "      <th>0</th>\n",
       "      <td>New York, New York</td>\n",
       "      <td>afghani</td>\n",
       "      <td>Afghan</td>\n",
       "      <td>NaN</td>\n",
       "      <td>NaN</td>\n",
       "      <td>18</td>\n",
       "      <td>3.75</td>\n",
       "      <td>150.111</td>\n",
       "    </tr>\n",
       "    <tr>\n",
       "      <th>1</th>\n",
       "      <td>New York, New York</td>\n",
       "      <td>african</td>\n",
       "      <td>African</td>\n",
       "      <td>NaN</td>\n",
       "      <td>NaN</td>\n",
       "      <td>48</td>\n",
       "      <td>4.11458</td>\n",
       "      <td>115.646</td>\n",
       "    </tr>\n",
       "    <tr>\n",
       "      <th>2</th>\n",
       "      <td>New York, New York</td>\n",
       "      <td>arabian</td>\n",
       "      <td>Arabian</td>\n",
       "      <td>682.0</td>\n",
       "      <td>Saudi Arabia</td>\n",
       "      <td>5</td>\n",
       "      <td>3.9</td>\n",
       "      <td>51.6</td>\n",
       "    </tr>\n",
       "    <tr>\n",
       "      <th>3</th>\n",
       "      <td>New York, New York</td>\n",
       "      <td>argentine</td>\n",
       "      <td>Argentine</td>\n",
       "      <td>32.0</td>\n",
       "      <td>Argentina</td>\n",
       "      <td>21</td>\n",
       "      <td>3.90476</td>\n",
       "      <td>182.857</td>\n",
       "    </tr>\n",
       "    <tr>\n",
       "      <th>4</th>\n",
       "      <td>New York, New York</td>\n",
       "      <td>armenian</td>\n",
       "      <td>Armenian</td>\n",
       "      <td>51.0</td>\n",
       "      <td>Armenia</td>\n",
       "      <td>5</td>\n",
       "      <td>4.5</td>\n",
       "      <td>27.4</td>\n",
       "    </tr>\n",
       "  </tbody>\n",
       "</table>\n",
       "</div>"
      ],
      "text/plain": [
       "                 city   category category_name  M49_country_code  \\\n",
       "0  New York, New York    afghani        Afghan               NaN   \n",
       "1  New York, New York    african       African               NaN   \n",
       "2  New York, New York    arabian       Arabian             682.0   \n",
       "3  New York, New York  argentine     Argentine              32.0   \n",
       "4  New York, New York   armenian      Armenian              51.0   \n",
       "\n",
       "        country  total_business_count sample_rating sample_review_count  \n",
       "0           NaN                    18          3.75             150.111  \n",
       "1           NaN                    48       4.11458             115.646  \n",
       "2  Saudi Arabia                     5           3.9                51.6  \n",
       "3     Argentina                    21       3.90476             182.857  \n",
       "4       Armenia                     5           4.5                27.4  "
      ]
     },
     "execution_count": 53,
     "metadata": {},
     "output_type": "execute_result"
    }
   ],
   "source": [
    "food_diversity_cleaned.head()"
   ]
  },
  {
   "cell_type": "code",
   "execution_count": null,
   "metadata": {},
   "outputs": [],
   "source": []
  },
  {
   "cell_type": "markdown",
   "metadata": {},
   "source": [
    "## Export clean, geo-marked data to CSV"
   ]
  },
  {
   "cell_type": "code",
   "execution_count": 55,
   "metadata": {},
   "outputs": [],
   "source": [
    "food_diversity_cleaned.to_csv('food_diversity.csv')"
   ]
  },
  {
   "cell_type": "code",
   "execution_count": null,
   "metadata": {},
   "outputs": [],
   "source": []
  }
 ],
 "metadata": {
  "kernelspec": {
   "display_name": "Python 3",
   "language": "python",
   "name": "python3"
  },
  "language_info": {
   "codemirror_mode": {
    "name": "ipython",
    "version": 3
   },
   "file_extension": ".py",
   "mimetype": "text/x-python",
   "name": "python",
   "nbconvert_exporter": "python",
   "pygments_lexer": "ipython3",
   "version": "3.8.2"
  }
 },
 "nbformat": 4,
 "nbformat_minor": 4
}
