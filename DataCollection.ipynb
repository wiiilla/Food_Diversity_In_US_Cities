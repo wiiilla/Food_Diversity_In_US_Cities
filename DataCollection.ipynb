{
 "cells": [
  {
   "cell_type": "markdown",
   "metadata": {},
   "source": [
    "# Data Collection for URP 353, Assignment 2"
   ]
  },
  {
   "cell_type": "markdown",
   "metadata": {},
   "source": [
    "## Figure out what restaurant categories are available for the US market and save to a list"
   ]
  },
  {
   "cell_type": "markdown",
   "metadata": {},
   "source": [
    "Category List Reference: https://www.yelp.com/developers/documentation/v3/all_category_list"
   ]
  },
  {
   "cell_type": "code",
   "execution_count": 44,
   "metadata": {},
   "outputs": [],
   "source": [
    "import pandas as pd\n",
    "import requests"
   ]
  },
  {
   "cell_type": "code",
   "execution_count": 45,
   "metadata": {},
   "outputs": [],
   "source": [
    "import json\n",
    "import time"
   ]
  },
  {
   "cell_type": "code",
   "execution_count": 46,
   "metadata": {},
   "outputs": [],
   "source": [
    "categories = pd.read_json('https://www.yelp.com/developers/documentation/v3/all_category_list/categories.json')"
   ]
  },
  {
   "cell_type": "code",
   "execution_count": 47,
   "metadata": {},
   "outputs": [
    {
     "data": {
      "text/html": [
       "<div>\n",
       "<style scoped>\n",
       "    .dataframe tbody tr th:only-of-type {\n",
       "        vertical-align: middle;\n",
       "    }\n",
       "\n",
       "    .dataframe tbody tr th {\n",
       "        vertical-align: top;\n",
       "    }\n",
       "\n",
       "    .dataframe thead th {\n",
       "        text-align: right;\n",
       "    }\n",
       "</style>\n",
       "<table border=\"1\" class=\"dataframe\">\n",
       "  <thead>\n",
       "    <tr style=\"text-align: right;\">\n",
       "      <th></th>\n",
       "      <th>alias</th>\n",
       "      <th>title</th>\n",
       "      <th>parents</th>\n",
       "      <th>country_whitelist</th>\n",
       "      <th>country_blacklist</th>\n",
       "    </tr>\n",
       "  </thead>\n",
       "  <tbody>\n",
       "    <tr>\n",
       "      <th>910</th>\n",
       "      <td>motorcyclerepair</td>\n",
       "      <td>Motorcycle Repair</td>\n",
       "      <td>[auto]</td>\n",
       "      <td>NaN</td>\n",
       "      <td>NaN</td>\n",
       "    </tr>\n",
       "  </tbody>\n",
       "</table>\n",
       "</div>"
      ],
      "text/plain": [
       "                alias              title parents country_whitelist  \\\n",
       "910  motorcyclerepair  Motorcycle Repair  [auto]               NaN   \n",
       "\n",
       "    country_blacklist  \n",
       "910               NaN  "
      ]
     },
     "execution_count": 47,
     "metadata": {},
     "output_type": "execute_result"
    }
   ],
   "source": [
    "categories.sample(1)"
   ]
  },
  {
   "cell_type": "code",
   "execution_count": 48,
   "metadata": {},
   "outputs": [],
   "source": [
    "# categories.parents.astype(str).str.strip(\"['.']\").unique()"
   ]
  },
  {
   "cell_type": "code",
   "execution_count": 49,
   "metadata": {},
   "outputs": [],
   "source": [
    "categories['parents'] = categories['parents'].astype(str).str.strip(\"['.']\")"
   ]
  },
  {
   "cell_type": "code",
   "execution_count": 50,
   "metadata": {},
   "outputs": [
    {
     "data": {
      "text/html": [
       "<div>\n",
       "<style scoped>\n",
       "    .dataframe tbody tr th:only-of-type {\n",
       "        vertical-align: middle;\n",
       "    }\n",
       "\n",
       "    .dataframe tbody tr th {\n",
       "        vertical-align: top;\n",
       "    }\n",
       "\n",
       "    .dataframe thead th {\n",
       "        text-align: right;\n",
       "    }\n",
       "</style>\n",
       "<table border=\"1\" class=\"dataframe\">\n",
       "  <thead>\n",
       "    <tr style=\"text-align: right;\">\n",
       "      <th></th>\n",
       "      <th>alias</th>\n",
       "      <th>title</th>\n",
       "      <th>parents</th>\n",
       "      <th>country_whitelist</th>\n",
       "      <th>country_blacklist</th>\n",
       "    </tr>\n",
       "  </thead>\n",
       "  <tbody>\n",
       "    <tr>\n",
       "      <th>1295</th>\n",
       "      <td>social_clubs</td>\n",
       "      <td>Social Clubs</td>\n",
       "      <td>arts</td>\n",
       "      <td>NaN</td>\n",
       "      <td>NaN</td>\n",
       "    </tr>\n",
       "  </tbody>\n",
       "</table>\n",
       "</div>"
      ],
      "text/plain": [
       "             alias         title parents country_whitelist country_blacklist\n",
       "1295  social_clubs  Social Clubs    arts               NaN               NaN"
      ]
     },
     "execution_count": 50,
     "metadata": {},
     "output_type": "execute_result"
    }
   ],
   "source": [
    "categories.sample(1)"
   ]
  },
  {
   "cell_type": "code",
   "execution_count": 51,
   "metadata": {},
   "outputs": [],
   "source": [
    "def available_US(white, black):\n",
    "    if type(white) is float and type(black) is float:\n",
    "        return True\n",
    "    elif type(white) is float and 'US' in black:\n",
    "        return False\n",
    "    elif type(black) is float and not('US' in white):\n",
    "        return False\n",
    "    return True"
   ]
  },
  {
   "cell_type": "code",
   "execution_count": 52,
   "metadata": {},
   "outputs": [],
   "source": [
    "US_filter = categories[['country_whitelist','country_blacklist']]\\\n",
    "    .apply(lambda x: available_US(x['country_whitelist'],x['country_blacklist']), axis = 1)"
   ]
  },
  {
   "cell_type": "code",
   "execution_count": 53,
   "metadata": {},
   "outputs": [],
   "source": [
    "US_categories = categories[ \n",
    "    ((categories['parents']=='food') | (categories['parents']=='restaurants') )\n",
    "    & US_filter\n",
    "    ].iloc[:, 0:3]"
   ]
  },
  {
   "cell_type": "code",
   "execution_count": 54,
   "metadata": {},
   "outputs": [
    {
     "data": {
      "text/plain": [
       "(172, 3)"
      ]
     },
     "execution_count": 54,
     "metadata": {},
     "output_type": "execute_result"
    }
   ],
   "source": [
    "US_categories.shape"
   ]
  },
  {
   "cell_type": "code",
   "execution_count": 55,
   "metadata": {},
   "outputs": [
    {
     "data": {
      "text/html": [
       "<div>\n",
       "<style scoped>\n",
       "    .dataframe tbody tr th:only-of-type {\n",
       "        vertical-align: middle;\n",
       "    }\n",
       "\n",
       "    .dataframe tbody tr th {\n",
       "        vertical-align: top;\n",
       "    }\n",
       "\n",
       "    .dataframe thead th {\n",
       "        text-align: right;\n",
       "    }\n",
       "</style>\n",
       "<table border=\"1\" class=\"dataframe\">\n",
       "  <thead>\n",
       "    <tr style=\"text-align: right;\">\n",
       "      <th></th>\n",
       "      <th>alias</th>\n",
       "      <th>title</th>\n",
       "      <th>parents</th>\n",
       "    </tr>\n",
       "  </thead>\n",
       "  <tbody>\n",
       "    <tr>\n",
       "      <th>225</th>\n",
       "      <td>cafes</td>\n",
       "      <td>Cafes</td>\n",
       "      <td>restaurants</td>\n",
       "    </tr>\n",
       "    <tr>\n",
       "      <th>250</th>\n",
       "      <td>caribbean</td>\n",
       "      <td>Caribbean</td>\n",
       "      <td>restaurants</td>\n",
       "    </tr>\n",
       "    <tr>\n",
       "      <th>575</th>\n",
       "      <td>gelato</td>\n",
       "      <td>Gelato</td>\n",
       "      <td>food</td>\n",
       "    </tr>\n",
       "    <tr>\n",
       "      <th>1351</th>\n",
       "      <td>supperclubs</td>\n",
       "      <td>Supper Clubs</td>\n",
       "      <td>restaurants</td>\n",
       "    </tr>\n",
       "    <tr>\n",
       "      <th>361</th>\n",
       "      <td>customcakes</td>\n",
       "      <td>Custom Cakes</td>\n",
       "      <td>food</td>\n",
       "    </tr>\n",
       "  </tbody>\n",
       "</table>\n",
       "</div>"
      ],
      "text/plain": [
       "            alias         title      parents\n",
       "225         cafes         Cafes  restaurants\n",
       "250     caribbean     Caribbean  restaurants\n",
       "575        gelato        Gelato         food\n",
       "1351  supperclubs  Supper Clubs  restaurants\n",
       "361   customcakes  Custom Cakes         food"
      ]
     },
     "execution_count": 55,
     "metadata": {},
     "output_type": "execute_result"
    }
   ],
   "source": [
    "US_categories.sample(5)"
   ]
  },
  {
   "cell_type": "code",
   "execution_count": 59,
   "metadata": {},
   "outputs": [],
   "source": []
  },
  {
   "cell_type": "code",
   "execution_count": 13,
   "metadata": {},
   "outputs": [],
   "source": [
    "US_categories_li = US_categories.alias.to_list()"
   ]
  },
  {
   "cell_type": "markdown",
   "metadata": {},
   "source": [
    "## Make a list of categories available in US that're culture / country related"
   ]
  },
  {
   "cell_type": "code",
   "execution_count": 14,
   "metadata": {},
   "outputs": [],
   "source": [
    "US_cultural_categories_li = [x for x in US_categories_li if not (x in [\n",
    "    'acaibowls',\n",
    "    'asianfusion',\n",
    "    'bagels', 'bakeries',\n",
    "    'bbq',\n",
    "    'beer_and_wine',\n",
    "    'beverage_stores',\n",
    "    'brasseries',\n",
    "    'breakfast_brunch',\n",
    "    'breweries',\n",
    "    'bubbletea',\n",
    "    'buffets',\n",
    "    'burgers','butcher',\n",
    "    'cafes',\n",
    "    'cafeteria',\n",
    "    'cakeshop',\n",
    "    'cheesesteaks',\n",
    "    'chicken_wings',\n",
    "    'chickenshop',\n",
    "    'chimneycakes',\n",
    "    'cideries',\n",
    "    'coffee',\n",
    "    'coffeeroasteries',\n",
    "    'comfortfood',\n",
    "    'convenience',\n",
    "    'creperies',\n",
    "    'csa',\n",
    "    'cupcakes',\n",
    "    'customcakes',\n",
    "    'delis',\n",
    "    'desserts',\n",
    "    'diners',\n",
    "    'dinnertheater',\n",
    "    'distilleries',\n",
    "    'diyfood',\n",
    "    'donuts',\n",
    "    'empanadas',\n",
    "    'farmersmarket',\n",
    "    'fishnchips',\n",
    "    'fondue',\n",
    "    'food_court',\n",
    "    'fooddeliveryservices',\n",
    "    'foodstands',\n",
    "    'foodtrucks',\n",
    "    'gamemeat',\n",
    "    'gastropubs',\n",
    "    'gelato',\n",
    "    'gluten_free',\n",
    "    'gourmet',\n",
    "    'greek',\n",
    "    'grocery',\n",
    "    'hkcafe',\n",
    "    'honey',\n",
    "    'hotdog',\n",
    "    'hotdogs',\n",
    "    'hotpot',\n",
    "    'icecream',\n",
    "    'importedfood',\n",
    "    'indpak',\n",
    "    'internetcafe',\n",
    "    'intlgrocery',\n",
    "    'juicebars',\n",
    "    'kebab',\n",
    "    'kombucha',\n",
    "    'meaderies',\n",
    "    'noodles',\n",
    "    'organic_stores',\n",
    "    'pizza',\n",
    "    'poke',\n",
    "    'popuprestaurants',\n",
    "    'poutineries',\n",
    "    'pretzels',\n",
    "    'raw_food',\n",
    "    'salad',\n",
    "    'sandwiches',\n",
    "    'seafood',\n",
    "    'shavedice',\n",
    "    'shavedsnow',\n",
    "    'smokehouse',\n",
    "    'soulfood',\n",
    "    'soup',\n",
    "    'southern',\n",
    "    'steak',\n",
    "    'streetvendors',\n",
    "    'supperclubs',\n",
    "    'sushi',\n",
    "    'tapas',\n",
    "    'tapasmallplates',\n",
    "    'tea',\n",
    "    'tex-mex',\n",
    "    'vegan',\n",
    "    'vegetarian',\n",
    "    'waffles',\n",
    "    'waterstores',\n",
    "    'wraps'\n",
    "])]"
   ]
  },
  {
   "cell_type": "code",
   "execution_count": 15,
   "metadata": {},
   "outputs": [
    {
     "data": {
      "text/plain": [
       "['afghani',\n",
       " 'african',\n",
       " 'arabian',\n",
       " 'argentine',\n",
       " 'armenian',\n",
       " 'australian',\n",
       " 'austrian',\n",
       " 'bangladeshi',\n",
       " 'basque',\n",
       " 'belgian',\n",
       " 'brazilian',\n",
       " 'british',\n",
       " 'bulgarian',\n",
       " 'burmese',\n",
       " 'cajun',\n",
       " 'cambodian',\n",
       " 'caribbean',\n",
       " 'catalan',\n",
       " 'chinese',\n",
       " 'cuban',\n",
       " 'czech',\n",
       " 'eritrean',\n",
       " 'ethiopian',\n",
       " 'filipino',\n",
       " 'french',\n",
       " 'georgian',\n",
       " 'german',\n",
       " 'guamanian',\n",
       " 'halal',\n",
       " 'hawaiian',\n",
       " 'himalayan',\n",
       " 'honduran',\n",
       " 'hungarian',\n",
       " 'iberian',\n",
       " 'indonesian',\n",
       " 'irish',\n",
       " 'italian',\n",
       " 'japanese',\n",
       " 'korean',\n",
       " 'kosher',\n",
       " 'laotian',\n",
       " 'latin',\n",
       " 'malaysian',\n",
       " 'mediterranean',\n",
       " 'mexican',\n",
       " 'mideastern',\n",
       " 'modern_european',\n",
       " 'mongolian',\n",
       " 'moroccan',\n",
       " 'newamerican',\n",
       " 'newmexican',\n",
       " 'nicaraguan',\n",
       " 'pakistani',\n",
       " 'panasian',\n",
       " 'persian',\n",
       " 'peruvian',\n",
       " 'piadina',\n",
       " 'polish',\n",
       " 'polynesian',\n",
       " 'portuguese',\n",
       " 'russian',\n",
       " 'scandinavian',\n",
       " 'scottish',\n",
       " 'singaporean',\n",
       " 'slovakian',\n",
       " 'somali',\n",
       " 'spanish',\n",
       " 'srilankan',\n",
       " 'syrian',\n",
       " 'taiwanese',\n",
       " 'thai',\n",
       " 'tradamerican',\n",
       " 'turkish',\n",
       " 'ukrainian',\n",
       " 'uzbek',\n",
       " 'vietnamese']"
      ]
     },
     "execution_count": 15,
     "metadata": {},
     "output_type": "execute_result"
    }
   ],
   "source": [
    "US_cultural_categories_li"
   ]
  },
  {
   "cell_type": "code",
   "execution_count": 16,
   "metadata": {},
   "outputs": [
    {
     "data": {
      "text/plain": [
       "76"
      ]
     },
     "execution_count": 16,
     "metadata": {},
     "output_type": "execute_result"
    }
   ],
   "source": [
    "len(US_cultural_categories_li)"
   ]
  },
  {
   "cell_type": "code",
   "execution_count": null,
   "metadata": {},
   "outputs": [],
   "source": []
  },
  {
   "cell_type": "code",
   "execution_count": null,
   "metadata": {},
   "outputs": [],
   "source": []
  },
  {
   "cell_type": "markdown",
   "metadata": {},
   "source": [
    "## Identify a list of U.S. cities whose food diversity we're interested in"
   ]
  },
  {
   "cell_type": "code",
   "execution_count": 17,
   "metadata": {},
   "outputs": [],
   "source": [
    "locales = ['en_US']"
   ]
  },
  {
   "cell_type": "markdown",
   "metadata": {},
   "source": [
    "Read in a list of U.S. state capitals"
   ]
  },
  {
   "cell_type": "code",
   "execution_count": 18,
   "metadata": {},
   "outputs": [],
   "source": [
    "state_capitals_df = pd.read_json('https://raw.githubusercontent.com/vega/vega/master/docs/data/us-state-capitals.json', \n",
    "                              orient = 'records')"
   ]
  },
  {
   "cell_type": "code",
   "execution_count": 19,
   "metadata": {},
   "outputs": [
    {
     "name": "stderr",
     "output_type": "stream",
     "text": [
      "<ipython-input-19-d222befebcf3>:2: SettingWithCopyWarning: \n",
      "A value is trying to be set on a copy of a slice from a DataFrame.\n",
      "Try using .loc[row_indexer,col_indexer] = value instead\n",
      "\n",
      "See the caveats in the documentation: https://pandas.pydata.org/pandas-docs/stable/user_guide/indexing.html#returning-a-view-versus-a-copy\n",
      "  state_capitals['query'] = (state_capitals.city + ', ' + state_capitals.state)\n"
     ]
    }
   ],
   "source": [
    "state_capitals = state_capitals_df[['city','state']]\n",
    "state_capitals['query'] = (state_capitals.city + ', ' + state_capitals.state)"
   ]
  },
  {
   "cell_type": "markdown",
   "metadata": {},
   "source": [
    "Read in a list of major US cities with top 50 populations"
   ]
  },
  {
   "cell_type": "code",
   "execution_count": 20,
   "metadata": {},
   "outputs": [],
   "source": [
    "major_cities_df = pd.read_json('https://gist.githubusercontent.com/Miserlou/c5cd8364bf9b2420bb29/raw/2bf258763cdddd704f8ffd3ea9a3e81d25e2c6f6/cities.json', \n",
    "                              orient = 'records')"
   ]
  },
  {
   "cell_type": "code",
   "execution_count": 21,
   "metadata": {},
   "outputs": [],
   "source": [
    "major_cities = major_cities_df[ major_cities_df['rank'] <= 50 ][['city','state']]\n",
    "major_cities['query'] = (major_cities.city + ', ' + major_cities.state)\n"
   ]
  },
  {
   "cell_type": "markdown",
   "metadata": {},
   "source": [
    "Join state_capitals with major cities (later changed to top 50 US cities plus Ann Arbor due to rate limit)"
   ]
  },
  {
   "cell_type": "code",
   "execution_count": 22,
   "metadata": {},
   "outputs": [],
   "source": [
    "# locations_df = pd.concat([state_capitals, major_cities]).drop_duplicates().reset_index(drop=True)\n",
    "locations_df = major_cities\n",
    "locations_df.loc[51] =  ['Ann Arbor', 'Michigan', 'Ann Arbor, Michigan'] "
   ]
  },
  {
   "cell_type": "code",
   "execution_count": 23,
   "metadata": {},
   "outputs": [
    {
     "data": {
      "text/html": [
       "<div>\n",
       "<style scoped>\n",
       "    .dataframe tbody tr th:only-of-type {\n",
       "        vertical-align: middle;\n",
       "    }\n",
       "\n",
       "    .dataframe tbody tr th {\n",
       "        vertical-align: top;\n",
       "    }\n",
       "\n",
       "    .dataframe thead th {\n",
       "        text-align: right;\n",
       "    }\n",
       "</style>\n",
       "<table border=\"1\" class=\"dataframe\">\n",
       "  <thead>\n",
       "    <tr style=\"text-align: right;\">\n",
       "      <th></th>\n",
       "      <th>city</th>\n",
       "      <th>state</th>\n",
       "      <th>query</th>\n",
       "    </tr>\n",
       "  </thead>\n",
       "  <tbody>\n",
       "    <tr>\n",
       "      <th>0</th>\n",
       "      <td>New York</td>\n",
       "      <td>New York</td>\n",
       "      <td>New York, New York</td>\n",
       "    </tr>\n",
       "    <tr>\n",
       "      <th>1</th>\n",
       "      <td>Los Angeles</td>\n",
       "      <td>California</td>\n",
       "      <td>Los Angeles, California</td>\n",
       "    </tr>\n",
       "    <tr>\n",
       "      <th>2</th>\n",
       "      <td>Chicago</td>\n",
       "      <td>Illinois</td>\n",
       "      <td>Chicago, Illinois</td>\n",
       "    </tr>\n",
       "    <tr>\n",
       "      <th>3</th>\n",
       "      <td>Houston</td>\n",
       "      <td>Texas</td>\n",
       "      <td>Houston, Texas</td>\n",
       "    </tr>\n",
       "    <tr>\n",
       "      <th>4</th>\n",
       "      <td>Philadelphia</td>\n",
       "      <td>Pennsylvania</td>\n",
       "      <td>Philadelphia, Pennsylvania</td>\n",
       "    </tr>\n",
       "  </tbody>\n",
       "</table>\n",
       "</div>"
      ],
      "text/plain": [
       "           city         state                       query\n",
       "0      New York      New York          New York, New York\n",
       "1   Los Angeles    California     Los Angeles, California\n",
       "2       Chicago      Illinois           Chicago, Illinois\n",
       "3       Houston         Texas              Houston, Texas\n",
       "4  Philadelphia  Pennsylvania  Philadelphia, Pennsylvania"
      ]
     },
     "execution_count": 23,
     "metadata": {},
     "output_type": "execute_result"
    }
   ],
   "source": [
    "locations_df.head()"
   ]
  },
  {
   "cell_type": "code",
   "execution_count": 24,
   "metadata": {},
   "outputs": [
    {
     "data": {
      "text/plain": [
       "(51, 3)"
      ]
     },
     "execution_count": 24,
     "metadata": {},
     "output_type": "execute_result"
    }
   ],
   "source": [
    "locations_df.shape"
   ]
  },
  {
   "cell_type": "markdown",
   "metadata": {},
   "source": [
    "Get list of query locations"
   ]
  },
  {
   "cell_type": "code",
   "execution_count": 25,
   "metadata": {},
   "outputs": [],
   "source": [
    "locations = locations_df['query'].to_list()"
   ]
  },
  {
   "cell_type": "code",
   "execution_count": null,
   "metadata": {},
   "outputs": [],
   "source": []
  },
  {
   "cell_type": "code",
   "execution_count": null,
   "metadata": {},
   "outputs": [],
   "source": []
  },
  {
   "cell_type": "code",
   "execution_count": null,
   "metadata": {},
   "outputs": [],
   "source": []
  },
  {
   "cell_type": "code",
   "execution_count": null,
   "metadata": {},
   "outputs": [],
   "source": []
  },
  {
   "cell_type": "markdown",
   "metadata": {},
   "source": [
    "## Query Yelp API for count of businesses for each cultural/national cuisine in each location"
   ]
  },
  {
   "cell_type": "markdown",
   "metadata": {},
   "source": [
    "### Make and write request functions for retriving count of businesses"
   ]
  },
  {
   "cell_type": "code",
   "execution_count": 26,
   "metadata": {},
   "outputs": [],
   "source": [
    "def get_search_parameters(city, category):\n",
    "    params = {}\n",
    "    params['location'] = city\n",
    "    params['categories'] = category\n",
    "    params['limit'] = 50\n",
    "    return params\n"
   ]
  },
  {
   "cell_type": "code",
   "execution_count": 27,
   "metadata": {},
   "outputs": [],
   "source": [
    "def get_results(params):\n",
    "    api_key = 'a-I1scMVVk1RS_zHPpH59SYDzWY59sGAI5LcK5nT8XIaW30lf_WshH6MSE2AKeT1zdljEaiTKF8pjKawh1KL2Jys5mRD8yJt3IIvyd0gu0oUNbJpGiIgvBiwH_JvX3Yx'\n",
    "    headers = {'Authorization': 'Bearer %s' % api_key}\n",
    "    url = \"https://api.yelp.com/v3/businesses/search\"\n",
    "    \n",
    "    response = requests.get(url, params=params, headers=headers)\n",
    "    time.sleep(0.5)\n",
    "    \n",
    "    if response.status_code == 200:\n",
    "        response = json.loads(response.text)\n",
    "        return response\n",
    "    else:\n",
    "        print ('Error code %s' % response.status_code)\n",
    "        print(json.loads(response.text))\n",
    "        return 'Error code %s' % response.status_code"
   ]
  },
  {
   "cell_type": "markdown",
   "metadata": {},
   "source": [
    "Test connection"
   ]
  },
  {
   "cell_type": "code",
   "execution_count": 28,
   "metadata": {},
   "outputs": [],
   "source": [
    "test_response = get_results(get_search_parameters('NYC', 'chinese'))"
   ]
  },
  {
   "cell_type": "code",
   "execution_count": 29,
   "metadata": {},
   "outputs": [],
   "source": [
    "def read_response(city, category, res):\n",
    "    d = {}\n",
    "    d['query'] = city\n",
    "    d['category'] = category\n",
    "    \n",
    "    try:\n",
    "        d['total_business_count'] = res['total']\n",
    "        if res['total'] != 0:\n",
    "            sample = pd.DataFrame(res['businesses'])\n",
    "            d['sample_rating'] = sample['rating'].mean()\n",
    "            d['sample_review_count'] = sample['review_count'].mean()\n",
    "        else: \n",
    "            d['total_business_count'] = 0\n",
    "            d['sample_rating'] = 'NA'\n",
    "            d['sample_review_count'] = 'NA'\n",
    "    except:\n",
    "        d['total_business_count'] = 0\n",
    "        d['sample_rating'] = 'Error'\n",
    "        d['sample_review_count'] = 'Error'\n",
    "        \n",
    "    return d"
   ]
  },
  {
   "cell_type": "code",
   "execution_count": 30,
   "metadata": {},
   "outputs": [
    {
     "data": {
      "text/plain": [
       "{'query': 'NYC',\n",
       " 'category': 'chinese',\n",
       " 'total_business_count': 1700,\n",
       " 'sample_rating': 4.1,\n",
       " 'sample_review_count': 1196.06}"
      ]
     },
     "execution_count": 30,
     "metadata": {},
     "output_type": "execute_result"
    }
   ],
   "source": [
    "read_response('NYC', 'chinese', test_response)"
   ]
  },
  {
   "cell_type": "markdown",
   "metadata": {},
   "source": [
    "### Literatively retreive count of businesses for each of the 76 cultural/national cuisine"
   ]
  },
  {
   "cell_type": "markdown",
   "metadata": {},
   "source": [
    "Caching"
   ]
  },
  {
   "cell_type": "code",
   "execution_count": 31,
   "metadata": {},
   "outputs": [],
   "source": [
    "output_path = 'food_diversity.json'"
   ]
  },
  {
   "cell_type": "code",
   "execution_count": 32,
   "metadata": {},
   "outputs": [],
   "source": [
    "def get_counts(fname):\n",
    "    try:\n",
    "        cache_file = open(output_path,'r')\n",
    "        cache_contents = cache_file.read()\n",
    "        cache_file.close()\n",
    "        cache = json.loads(cache_contents)\n",
    "    except:\n",
    "        cache = []\n",
    "        \n",
    "    if len(cache) > 0:\n",
    "        cached_cities = [ (r['query'],r['category']) for r in cache]\n",
    "    else:\n",
    "        cached_cities = []\n",
    "\n",
    "    for city in locations:\n",
    "        for category in US_cultural_categories_li:\n",
    "            if (city,category) in cached_cities:\n",
    "                print ( \"%s's category %s already formatted\" % (city,category))\n",
    "                continue\n",
    "            params = get_search_parameters(city, category)\n",
    "            response = get_results(params)\n",
    "            cache.append( read_response(city, category, response) )\n",
    "        cacheFile = open(fname, \"w\")\n",
    "        json.dump(cache, cacheFile)\n",
    "        cacheFile.close()\n",
    "\n",
    "\n",
    "    return cache\n",
    "        "
   ]
  },
  {
   "cell_type": "code",
   "execution_count": 33,
   "metadata": {},
   "outputs": [
    {
     "name": "stdout",
     "output_type": "stream",
     "text": [
      "Error code 500\n",
      "{'error': {'code': 'INTERNAL_ERROR', 'description': 'Something went wrong internally, please try again later.'}}\n",
      "Error code 500\n",
      "{'error': {'code': 'INTERNAL_ERROR', 'description': 'Something went wrong internally, please try again later.'}}\n",
      "Error code 500\n",
      "{'error': {'code': 'INTERNAL_ERROR', 'description': 'Something went wrong internally, please try again later.'}}\n",
      "Error code 500\n",
      "{'error': {'code': 'INTERNAL_ERROR', 'description': 'Something went wrong internally, please try again later.'}}\n",
      "Error code 500\n",
      "{'error': {'code': 'INTERNAL_ERROR', 'description': 'Something went wrong internally, please try again later.'}}\n",
      "Error code 500\n",
      "{'error': {'code': 'INTERNAL_ERROR', 'description': 'Something went wrong internally, please try again later.'}}\n",
      "Error code 500\n",
      "{'error': {'code': 'INTERNAL_ERROR', 'description': 'Something went wrong internally, please try again later.'}}\n",
      "Error code 500\n",
      "{'error': {'code': 'INTERNAL_ERROR', 'description': 'Something went wrong internally, please try again later.'}}\n",
      "Error code 500\n",
      "{'error': {'code': 'INTERNAL_ERROR', 'description': 'Something went wrong internally, please try again later.'}}\n",
      "Error code 500\n",
      "{'error': {'code': 'INTERNAL_ERROR', 'description': 'Something went wrong internally, please try again later.'}}\n",
      "Error code 500\n",
      "{'error': {'code': 'INTERNAL_ERROR', 'description': 'Something went wrong internally, please try again later.'}}\n",
      "Error code 500\n",
      "{'error': {'code': 'INTERNAL_ERROR', 'description': 'Something went wrong internally, please try again later.'}}\n",
      "Error code 500\n",
      "{'error': {'code': 'INTERNAL_ERROR', 'description': 'Something went wrong internally, please try again later.'}}\n",
      "Error code 500\n",
      "{'error': {'code': 'INTERNAL_ERROR', 'description': 'Something went wrong internally, please try again later.'}}\n",
      "Error code 500\n",
      "{'error': {'code': 'INTERNAL_ERROR', 'description': 'Something went wrong internally, please try again later.'}}\n",
      "Error code 500\n",
      "{'error': {'code': 'INTERNAL_ERROR', 'description': 'Something went wrong internally, please try again later.'}}\n",
      "Error code 500\n",
      "{'error': {'code': 'INTERNAL_ERROR', 'description': 'Something went wrong internally, please try again later.'}}\n"
     ]
    }
   ],
   "source": [
    "counts = get_counts(output_path)"
   ]
  },
  {
   "cell_type": "markdown",
   "metadata": {},
   "source": [
    "## Overview of the retreived data"
   ]
  },
  {
   "cell_type": "code",
   "execution_count": 34,
   "metadata": {},
   "outputs": [],
   "source": [
    "food_diversity = pd.DataFrame(counts)"
   ]
  },
  {
   "cell_type": "code",
   "execution_count": 35,
   "metadata": {},
   "outputs": [
    {
     "data": {
      "text/plain": [
       "(3876, 5)"
      ]
     },
     "execution_count": 35,
     "metadata": {},
     "output_type": "execute_result"
    }
   ],
   "source": [
    "food_diversity.shape"
   ]
  },
  {
   "cell_type": "code",
   "execution_count": 37,
   "metadata": {},
   "outputs": [
    {
     "data": {
      "text/html": [
       "<div>\n",
       "<style scoped>\n",
       "    .dataframe tbody tr th:only-of-type {\n",
       "        vertical-align: middle;\n",
       "    }\n",
       "\n",
       "    .dataframe tbody tr th {\n",
       "        vertical-align: top;\n",
       "    }\n",
       "\n",
       "    .dataframe thead th {\n",
       "        text-align: right;\n",
       "    }\n",
       "</style>\n",
       "<table border=\"1\" class=\"dataframe\">\n",
       "  <thead>\n",
       "    <tr style=\"text-align: right;\">\n",
       "      <th></th>\n",
       "      <th>query</th>\n",
       "      <th>category</th>\n",
       "      <th>total_business_count</th>\n",
       "      <th>sample_rating</th>\n",
       "      <th>sample_review_count</th>\n",
       "    </tr>\n",
       "  </thead>\n",
       "  <tbody>\n",
       "    <tr>\n",
       "      <th>2998</th>\n",
       "      <td>Atlanta, Georgia</td>\n",
       "      <td>indonesian</td>\n",
       "      <td>3</td>\n",
       "      <td>4.5</td>\n",
       "      <td>74.3333</td>\n",
       "    </tr>\n",
       "    <tr>\n",
       "      <th>1362</th>\n",
       "      <td>Detroit, Michigan</td>\n",
       "      <td>thai</td>\n",
       "      <td>22</td>\n",
       "      <td>3.77273</td>\n",
       "      <td>102.727</td>\n",
       "    </tr>\n",
       "    <tr>\n",
       "      <th>3729</th>\n",
       "      <td>Arlington, Texas</td>\n",
       "      <td>australian</td>\n",
       "      <td>1</td>\n",
       "      <td>5</td>\n",
       "      <td>313</td>\n",
       "    </tr>\n",
       "    <tr>\n",
       "      <th>2713</th>\n",
       "      <td>Long Beach, California</td>\n",
       "      <td>panasian</td>\n",
       "      <td>17</td>\n",
       "      <td>3.79412</td>\n",
       "      <td>330.118</td>\n",
       "    </tr>\n",
       "    <tr>\n",
       "      <th>1339</th>\n",
       "      <td>Detroit, Michigan</td>\n",
       "      <td>mongolian</td>\n",
       "      <td>5</td>\n",
       "      <td>3.2</td>\n",
       "      <td>125</td>\n",
       "    </tr>\n",
       "  </tbody>\n",
       "</table>\n",
       "</div>"
      ],
      "text/plain": [
       "                       query    category  total_business_count sample_rating  \\\n",
       "2998        Atlanta, Georgia  indonesian                     3           4.5   \n",
       "1362       Detroit, Michigan        thai                    22       3.77273   \n",
       "3729        Arlington, Texas  australian                     1             5   \n",
       "2713  Long Beach, California    panasian                    17       3.79412   \n",
       "1339       Detroit, Michigan   mongolian                     5           3.2   \n",
       "\n",
       "     sample_review_count  \n",
       "2998             74.3333  \n",
       "1362             102.727  \n",
       "3729                 313  \n",
       "2713             330.118  \n",
       "1339                 125  "
      ]
     },
     "execution_count": 37,
     "metadata": {},
     "output_type": "execute_result"
    }
   ],
   "source": [
    "food_diversity.sample(5)"
   ]
  },
  {
   "cell_type": "code",
   "execution_count": 40,
   "metadata": {},
   "outputs": [
    {
     "data": {
      "text/html": [
       "<div>\n",
       "<style scoped>\n",
       "    .dataframe tbody tr th:only-of-type {\n",
       "        vertical-align: middle;\n",
       "    }\n",
       "\n",
       "    .dataframe tbody tr th {\n",
       "        vertical-align: top;\n",
       "    }\n",
       "\n",
       "    .dataframe thead th {\n",
       "        text-align: right;\n",
       "    }\n",
       "</style>\n",
       "<table border=\"1\" class=\"dataframe\">\n",
       "  <thead>\n",
       "    <tr style=\"text-align: right;\">\n",
       "      <th></th>\n",
       "      <th>query</th>\n",
       "      <th>category</th>\n",
       "      <th>total_business_count</th>\n",
       "      <th>sample_rating</th>\n",
       "      <th>sample_review_count</th>\n",
       "    </tr>\n",
       "  </thead>\n",
       "  <tbody>\n",
       "    <tr>\n",
       "      <th>0</th>\n",
       "      <td>New York, New York</td>\n",
       "      <td>afghani</td>\n",
       "      <td>18</td>\n",
       "      <td>3.75</td>\n",
       "      <td>150.111</td>\n",
       "    </tr>\n",
       "    <tr>\n",
       "      <th>1</th>\n",
       "      <td>New York, New York</td>\n",
       "      <td>african</td>\n",
       "      <td>48</td>\n",
       "      <td>4.11458</td>\n",
       "      <td>115.646</td>\n",
       "    </tr>\n",
       "    <tr>\n",
       "      <th>2</th>\n",
       "      <td>New York, New York</td>\n",
       "      <td>arabian</td>\n",
       "      <td>5</td>\n",
       "      <td>3.9</td>\n",
       "      <td>51.6</td>\n",
       "    </tr>\n",
       "    <tr>\n",
       "      <th>3</th>\n",
       "      <td>New York, New York</td>\n",
       "      <td>argentine</td>\n",
       "      <td>21</td>\n",
       "      <td>3.90476</td>\n",
       "      <td>182.857</td>\n",
       "    </tr>\n",
       "    <tr>\n",
       "      <th>4</th>\n",
       "      <td>New York, New York</td>\n",
       "      <td>armenian</td>\n",
       "      <td>5</td>\n",
       "      <td>4.5</td>\n",
       "      <td>27.4</td>\n",
       "    </tr>\n",
       "  </tbody>\n",
       "</table>\n",
       "</div>"
      ],
      "text/plain": [
       "                query   category  total_business_count sample_rating  \\\n",
       "0  New York, New York    afghani                    18          3.75   \n",
       "1  New York, New York    african                    48       4.11458   \n",
       "2  New York, New York    arabian                     5           3.9   \n",
       "3  New York, New York  argentine                    21       3.90476   \n",
       "4  New York, New York   armenian                     5           4.5   \n",
       "\n",
       "  sample_review_count  \n",
       "0             150.111  \n",
       "1             115.646  \n",
       "2                51.6  \n",
       "3             182.857  \n",
       "4                27.4  "
      ]
     },
     "execution_count": 40,
     "metadata": {},
     "output_type": "execute_result"
    }
   ],
   "source": [
    "food_diversity.head(5)"
   ]
  },
  {
   "cell_type": "code",
   "execution_count": null,
   "metadata": {},
   "outputs": [],
   "source": []
  },
  {
   "cell_type": "code",
   "execution_count": null,
   "metadata": {},
   "outputs": [],
   "source": []
  },
  {
   "cell_type": "code",
   "execution_count": null,
   "metadata": {},
   "outputs": [],
   "source": []
  }
 ],
 "metadata": {
  "kernelspec": {
   "display_name": "Python 3",
   "language": "python",
   "name": "python3"
  },
  "language_info": {
   "codemirror_mode": {
    "name": "ipython",
    "version": 3
   },
   "file_extension": ".py",
   "mimetype": "text/x-python",
   "name": "python",
   "nbconvert_exporter": "python",
   "pygments_lexer": "ipython3",
   "version": "3.8.2"
  }
 },
 "nbformat": 4,
 "nbformat_minor": 4
}